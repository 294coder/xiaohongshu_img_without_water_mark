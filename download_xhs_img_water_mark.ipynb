{
 "cells": [
  {
   "cell_type": "code",
   "execution_count": 1,
   "metadata": {},
   "outputs": [],
   "source": [
    "import requests\n",
    "from bs4 import BeautifulSoup\n",
    "import bs4\n",
    "import os\n",
    "import re\n",
    "import tqdm\n"
   ]
  },
  {
   "cell_type": "code",
   "execution_count": 7,
   "metadata": {},
   "outputs": [],
   "source": [
    "url = 'http://xhslink.com/Ujcq9m'\n",
    "\n",
    "def fetch_url(url):\n",
    "    headers = {\n",
    "        'accept': 'text/html,application/xhtml+xml,application/xml;q=0.9,image/avif,image/webp,image/apng,*/*;q=0.8,application/signed-exchange;v=b3;q=0.9',\n",
    "        'User-Agent': 'Mozilla/5.0 (Windows NT 10.0; WOW64) AppleWebKit/537.36 (KHTML, like Gecko) Chrome/55.0.2883.87 UBrowser/6.2.4098.3 Safari/537.36',\n",
    "        'Accept-Encoding': 'gzip, deflate',\n",
    "        'cookie': 'your cookie' \n",
    "    }\n",
    "    \n",
    "    r = requests.get(url, headers = headers)\n",
    "    return r\n",
    "\n",
    "def download_img_from_url(url, i, base_dir='./'):\n",
    "    r = requests.get(url, stream=True)\n",
    "    chunk_size = 1024\n",
    "    content_size = int(r.headers['Content-Length'])\n",
    "    \n",
    "    with open(f'{base_dir}/{i}.jpg', 'wb') as f:\n",
    "        pbar = tqdm.tqdm(r.iter_content(chunk_size=chunk_size), total=content_size/chunk_size)\n",
    "        for data in pbar:\n",
    "            f.write(data)\n",
    "    f.close()\n",
    "    print('下载成功')\n"
   ]
  },
  {
   "cell_type": "code",
   "execution_count": 8,
   "metadata": {},
   "outputs": [
    {
     "name": "stdout",
     "output_type": "stream",
     "text": [
      "redirect_url: https://www.xiaohongshu.com/discovery/item/63d551d600000000080261c8?app_platform=android&app_version=7.73.0&share_from_user_hidden=true&type=normal&xhsshare=CopyLink&appuid=62e7d22b000000001f004484&apptime=1675606599\n"
     ]
    }
   ],
   "source": [
    "r = fetch_url(url)\n",
    "redirect_url = r.url\n",
    "print('redirect_url:', redirect_url)\n",
    "\n",
    "r = fetch_url(redirect_url)\n",
    "soup = BeautifulSoup(r.text, 'lxml')\n"
   ]
  },
  {
   "cell_type": "code",
   "execution_count": 9,
   "metadata": {},
   "outputs": [
    {
     "name": "stdout",
     "output_type": "stream",
     "text": [
      "有水印的图片网址：\n",
      "https://sns-img-bd.xhscdn.com/fd7fd6b2-db34-fcd3-6313-3a9f9876f3b7?imageView2/2/h/1600/format/webp\n",
      "https://sns-img-bd.xhscdn.com/fd7fd6b2-db34-fcd3-6313-3a9f9876f3b7?imageView2/2/h/1600/format/webp\n",
      "https://sns-img-bd.xhscdn.com/fd7fd6b2-db34-fcd3-6313-3a9f9876f3b7?imageView2/2/h/1600/format/webp\n",
      "https://sns-img-bd.xhscdn.com/fd7fd6b2-db34-fcd3-6313-3a9f9876f3b7?imageView2/2/h/1600/format/webp\n",
      "https://sns-img-bd.xhscdn.com/fd7fd6b2-db34-fcd3-6313-3a9f9876f3b7?imageView2/2/h/1600/format/webp\n",
      "https://sns-img-bd.xhscdn.com/fd7fd6b2-db34-fcd3-6313-3a9f9876f3b7?imageView2/2/h/1600/format/webp\n",
      "https://sns-img-bd.xhscdn.com/fd7fd6b2-db34-fcd3-6313-3a9f9876f3b7?imageView2/2/h/1600/format/webp\n",
      "https://sns-img-bd.xhscdn.com/fd7fd6b2-db34-fcd3-6313-3a9f9876f3b7?imageView2/2/h/1600/format/webp\n",
      "https://sns-img-bd.xhscdn.com/fd7fd6b2-db34-fcd3-6313-3a9f9876f3b7?imageView2/2/h/1600/format/webp\n",
      "无水印的图片网址：\n",
      "https://sns-img-bd.xhscdn.com/1000g0081v81thmof202g5nlc8g1g8ht0ivt9mbg\n",
      "https://sns-img-bd.xhscdn.com/1000g0081v81thmof201g5nlc8g1g8ht0t59ng7g\n",
      "https://sns-img-bd.xhscdn.com/1000g0081v81thmof20005nlc8g1g8ht0peijueg\n",
      "https://sns-img-bd.xhscdn.com/1000g0081v81thmof200g5nlc8g1g8ht0foknc8g\n",
      "https://sns-img-bd.xhscdn.com/1000g0081v81thmof20105nlc8g1g8ht0od7brag\n",
      "https://sns-img-bd.xhscdn.com/1000g0081v81thmof20205nlc8g1g8ht08biigqo\n",
      "https://sns-img-bd.xhscdn.com/1000g0081v81thmof20305nlc8g1g8ht0da8ocgg\n",
      "https://sns-img-bd.xhscdn.com/1000g0081v81thmof203g5nlc8g1g8ht0886f4qg\n",
      "https://sns-img-bd.xhscdn.com/1000g0081v81thmof20405nlc8g1g8ht0f1fj0ag\n"
     ]
    }
   ],
   "source": [
    "water_mark_img_urls: list[bs4.element.Tag] = soup.find_all(name='div', attrs={'class': 'swiper-slide zoom-in'})\n",
    "wmius = []\n",
    "\n",
    "print('有水印的图片网址：')\n",
    "for i in range(len(water_mark_img_urls)):\n",
    "    img_url_text = water_mark_img_urls[0]['style']\n",
    "    l = img_url_text.find('url')\n",
    "    img_url = img_url_text[l+4:-2]\n",
    "    wmius.append(img_url)\n",
    "    print(img_url)\n",
    "    \n",
    "r = wmius[0].find('.com')\n",
    "base_url = wmius[0][:r+4]\n",
    "\n",
    "\n",
    "scripts: list[bs4.element.Tag]=soup.find_all('script')\n",
    "text = scripts[8].text\n",
    "\n",
    "trace_id = re.findall(r'\"traceId\":\"[a-zA-Z0-9]+\"', text)\n",
    "\n",
    "print('无水印的图片网址：')\n",
    "ori_img_urls = []\n",
    "for id in trace_id:\n",
    "    wo_water_mark_img_url = base_url+ '/' + id.split(':')[-1].strip('\"')\n",
    "    ori_img_urls.append(wo_water_mark_img_url)\n",
    "    print(wo_water_mark_img_url)\n"
   ]
  },
  {
   "cell_type": "code",
   "execution_count": 10,
   "metadata": {},
   "outputs": [
    {
     "name": "stderr",
     "output_type": "stream",
     "text": [
      "1589it [00:00, 1896.71it/s]                                     \n"
     ]
    },
    {
     "name": "stdout",
     "output_type": "stream",
     "text": [
      "下载成功\n"
     ]
    },
    {
     "name": "stderr",
     "output_type": "stream",
     "text": [
      " 95%|█████████▍| 1474/1553.7421875 [00:00<00:00, 3578.62it/s]d:\\software\\anaconda\\lib\\site-packages\\tqdm\\std.py:533: TqdmWarning: clamping frac to range [0, 1]\n",
      "  full_bar = Bar(frac,\n",
      "100%|██████████| 1554/1553.7421875 [00:00<00:00, 3989.83it/s]\n"
     ]
    },
    {
     "name": "stdout",
     "output_type": "stream",
     "text": [
      "下载成功\n"
     ]
    },
    {
     "name": "stderr",
     "output_type": "stream",
     "text": [
      "100%|██████████| 1569/1568.7607421875 [00:01<00:00, 1454.81it/s]\n"
     ]
    },
    {
     "name": "stdout",
     "output_type": "stream",
     "text": [
      "下载成功\n"
     ]
    },
    {
     "name": "stderr",
     "output_type": "stream",
     "text": [
      "100%|██████████| 1552/1551.9716796875 [00:00<00:00, 2890.21it/s]\n"
     ]
    },
    {
     "name": "stdout",
     "output_type": "stream",
     "text": [
      "下载成功\n"
     ]
    },
    {
     "name": "stderr",
     "output_type": "stream",
     "text": [
      "1487it [00:01, 1032.55it/s]                                   \n"
     ]
    },
    {
     "name": "stdout",
     "output_type": "stream",
     "text": [
      "下载成功\n"
     ]
    },
    {
     "name": "stderr",
     "output_type": "stream",
     "text": [
      "100%|██████████| 1461/1460.91015625 [00:00<00:00, 2169.19it/s]\n"
     ]
    },
    {
     "name": "stdout",
     "output_type": "stream",
     "text": [
      "下载成功\n"
     ]
    },
    {
     "name": "stderr",
     "output_type": "stream",
     "text": [
      "1555it [00:01, 1296.27it/s]                                   \n"
     ]
    },
    {
     "name": "stdout",
     "output_type": "stream",
     "text": [
      "下载成功\n"
     ]
    },
    {
     "name": "stderr",
     "output_type": "stream",
     "text": [
      "100%|██████████| 1643/1642.8291015625 [00:00<00:00, 6147.27it/s]\n"
     ]
    },
    {
     "name": "stdout",
     "output_type": "stream",
     "text": [
      "下载成功\n"
     ]
    },
    {
     "name": "stderr",
     "output_type": "stream",
     "text": [
      "1420it [00:00, 3101.44it/s]                                "
     ]
    },
    {
     "name": "stdout",
     "output_type": "stream",
     "text": [
      "下载成功\n"
     ]
    },
    {
     "name": "stderr",
     "output_type": "stream",
     "text": [
      "\n"
     ]
    }
   ],
   "source": [
    "for i in range(len(ori_img_urls)):\n",
    "    download_img_from_url(ori_img_urls[i], i, 'download_imgs')"
   ]
  },
  {
   "cell_type": "code",
   "execution_count": null,
   "metadata": {},
   "outputs": [],
   "source": []
  }
 ],
 "metadata": {
  "kernelspec": {
   "display_name": "base",
   "language": "python",
   "name": "python3"
  },
  "language_info": {
   "codemirror_mode": {
    "name": "ipython",
    "version": 3
   },
   "file_extension": ".py",
   "mimetype": "text/x-python",
   "name": "python",
   "nbconvert_exporter": "python",
   "pygments_lexer": "ipython3",
   "version": "3.9.12"
  },
  "orig_nbformat": 4,
  "vscode": {
   "interpreter": {
    "hash": "429c4da532d5a49305ad374da5bd9411413fc9c5f93bdb5e51c34bc796003ebd"
   }
  }
 },
 "nbformat": 4,
 "nbformat_minor": 2
}
