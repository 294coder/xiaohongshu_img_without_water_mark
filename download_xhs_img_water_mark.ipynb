{
 "cells": [
  {
   "cell_type": "code",
   "execution_count": 1,
   "metadata": {},
   "outputs": [],
   "source": [
    "import requests\n",
    "from bs4 import BeautifulSoup\n",
    "import bs4\n",
    "import os\n",
    "import re\n",
    "import tqdm\n"
   ]
  },
  {
   "cell_type": "code",
   "execution_count": 81,
   "metadata": {},
   "outputs": [],
   "source": [
    "url = 'https://www.xiaohongshu.com/explore/6463763400000000070382d6?app_platform=android'\n",
    "\n",
    "def fetch_url(url):\n",
    "    headers = {\n",
    "        'accept': 'text/html,application/xhtml+xml,application/xml;q=0.9,image/avif,image/webp,image/apng,*/*;q=0.8,application/signed-exchange;v=b3;q=0.9',\n",
    "        'User-Agent': 'Mozilla/5.0 (Windows NT 10.0; WOW64) AppleWebKit/537.36 (KHTML, like Gecko) Chrome/55.0.2883.87 UBrowser/6.2.4098.3 Safari/537.36',\n",
    "        'Accept-Encoding': 'gzip, deflate',\n",
    "        'cookie': 'your cookie here'\n",
    "    }\n",
    "    \n",
    "    r = requests.get(url, headers = headers)\n",
    "    return r\n",
    "\n",
    "def download_img_from_url(url, i, base_dir='./'):\n",
    "    # set proxy if do not need, just comment this line\n",
    "    proxy = 'http://127.0.0.1:7891'\n",
    "    r = requests.get(url, stream=True,\n",
    "                     proxies={'http': proxy, 'https': proxy}, verify=False)\n",
    "    ###############\n",
    "    \n",
    "    chunk_size = 1024\n",
    "    content_size = int(r.headers['Content-Length'])\n",
    "    \n",
    "    os.makedirs(base_dir, exist_ok=True)\n",
    "    with open(f'{base_dir}/{i}.jpg', 'wb') as f:\n",
    "        pbar = tqdm.tqdm(r.iter_content(chunk_size=chunk_size), total=content_size/chunk_size)\n",
    "        for data in pbar:\n",
    "            f.write(data)\n",
    "    f.close()\n",
    "    print('下载成功')\n"
   ]
  },
  {
   "cell_type": "code",
   "execution_count": 68,
   "metadata": {},
   "outputs": [
    {
     "name": "stdout",
     "output_type": "stream",
     "text": [
      "redirect_url: https://www.xiaohongshu.com/explore/6463763400000000070382d6?app_platform=android\n"
     ]
    }
   ],
   "source": [
    "r = fetch_url(url)\n",
    "redirect_url = r.url\n",
    "print('redirect_url:', redirect_url)\n",
    "\n",
    "r = fetch_url(redirect_url)\n",
    "\n",
    "# r.text\n",
    "soup = BeautifulSoup(r.text, 'lxml')\n",
    "\n",
    "with open('./text.xml','w') as f:\n",
    "    f.writelines(soup.decode(pretty_print=True))\n"
   ]
  },
  {
   "cell_type": "code",
   "execution_count": 79,
   "metadata": {},
   "outputs": [
    {
     "name": "stdout",
     "output_type": "stream",
     "text": [
      "无水印的图片网址：\n",
      "https://sns-img-qc.xhscdn.com/1000g0082gj64jc0ic0305os3fi57rq6iqdgshn8\n",
      "https://sns-img-qc.xhscdn.com/1000g0082gj64jc0ic03g5os3fi57rq6ius63q70\n",
      "https://sns-img-qc.xhscdn.com/1000g0082gj64jc0ic0605os3fi57rq6iodde5lo\n",
      "https://sns-img-qc.xhscdn.com/1000g0082gj64jc0ic0005os3fi57rq6itj5oqlo\n",
      "https://sns-img-qc.xhscdn.com/1000g0082gj64jc0ic0505os3fi57rq6i76aa3dg\n",
      "https://sns-img-qc.xhscdn.com/1000g0082gj9m7p0i606g5os3fi57rq6is3i8gmg\n",
      "https://sns-img-qc.xhscdn.com/1000g0082glhkkqqi206g5os3fi57rq6ims39uj8\n",
      "https://sns-img-qc.xhscdn.com/1000g0082glhkkqqi20605os3fi57rq6im4vedvg\n",
      "https://sns-img-qc.xhscdn.com/1000g0082glhkkqqi205g5os3fi57rq6ifnhkaj0\n",
      "https://sns-img-qc.xhscdn.com/1000g0082glhkkqqi204g5os3fi57rq6inq2hj48\n",
      "https://sns-img-qc.xhscdn.com/1000g0082glhkkqqi201g5os3fi57rq6idmbq02o\n",
      "https://sns-img-qc.xhscdn.com/1000g0082glhkkqqi20305os3fi57rq6isotbndg\n",
      "https://sns-img-qc.xhscdn.com/1000g0082glhkkqqi203g5os3fi57rq6iled8c3g\n",
      "https://sns-img-qc.xhscdn.com/1000g0082glhkkqqi202g5os3fi57rq6iegip0so\n",
      "https://sns-img-qc.xhscdn.com/1000g0082glhkkqqi20005os3fi57rq6i3rj1000\n",
      "https://sns-img-qc.xhscdn.com/1000g0082glhkkqqi20505os3fi57rq6in77df20\n",
      "https://sns-img-qc.xhscdn.com/1000g0082glhkkqqi200g5os3fi57rq6ihin91r0\n",
      "https://sns-img-qc.xhscdn.com/1000g0082glhkkqqi20105os3fi57rq6igom2hmg\n"
     ]
    }
   ],
   "source": [
    "############ legacy code #################\n",
    "\n",
    "# water_mark_img_urls: list[bs4.element.Tag] = soup.find_all(name='div', attrs={'class': 'swiper-slide zoom-in'})\n",
    "# wmius = []\n",
    "\n",
    "# print('有水印的图片网址：')\n",
    "# for i in range(len(water_mark_img_urls)):\n",
    "#     img_url_text = water_mark_img_urls[0]['style']\n",
    "#     l = img_url_text.find('url')\n",
    "#     img_url = img_url_text[l+4:-2]\n",
    "#     wmius.append(img_url)\n",
    "#     print(img_url)\n",
    "    \n",
    "# r = wmius[0].find('.com')\n",
    "# base_url = wmius[0][:r+4]\n",
    "\n",
    "\n",
    "# scripts: list[bs4.element.Tag]=soup.find_all('script')\n",
    "# text = scripts[8].text\n",
    "\n",
    "#####################\n",
    "\n",
    "image_base_url = 'https://sns-img-qc.xhscdn.com'\n",
    "\n",
    "trace_id = re.findall(r'\"traceId\":\"[a-zA-Z0-9]+\"', r.text)\n",
    "\n",
    "print('无水印的图片网址：')\n",
    "ori_img_urls = []\n",
    "for id in trace_id:\n",
    "    wo_water_mark_img_url = image_base_url+ '/' + id.split(':')[-1].strip('\"')\n",
    "    ori_img_urls.append(wo_water_mark_img_url)\n",
    "    print(wo_water_mark_img_url)\n"
   ]
  },
  {
   "cell_type": "code",
   "execution_count": null,
   "metadata": {},
   "outputs": [],
   "source": [
    "for i in range(len(ori_img_urls)):\n",
    "    download_img_from_url(ori_img_urls[i], i, 'download_imgs')"
   ]
  },
  {
   "cell_type": "code",
   "execution_count": null,
   "metadata": {},
   "outputs": [],
   "source": []
  }
 ],
 "metadata": {
  "kernelspec": {
   "display_name": "base",
   "language": "python",
   "name": "python3"
  },
  "language_info": {
   "codemirror_mode": {
    "name": "ipython",
    "version": 3
   },
   "file_extension": ".py",
   "mimetype": "text/x-python",
   "name": "python",
   "nbconvert_exporter": "python",
   "pygments_lexer": "ipython3",
   "version": "3.9.12"
  },
  "orig_nbformat": 4,
  "vscode": {
   "interpreter": {
    "hash": "429c4da532d5a49305ad374da5bd9411413fc9c5f93bdb5e51c34bc796003ebd"
   }
  }
 },
 "nbformat": 4,
 "nbformat_minor": 2
}
